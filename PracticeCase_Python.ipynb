{
  "nbformat": 4,
  "nbformat_minor": 0,
  "metadata": {
    "colab": {
      "name": "PracticeCase_Python.ipynb",
      "provenance": [],
      "collapsed_sections": []
    },
    "kernelspec": {
      "name": "python3",
      "display_name": "Python 3"
    },
    "language_info": {
      "name": "python"
    }
  },
  "cells": [
    {
      "cell_type": "markdown",
      "metadata": {
        "id": "J7oFP4Qtf3JG"
      },
      "source": [
        "# Answer (No. 1)"
      ]
    },
    {
      "cell_type": "code",
      "metadata": {
        "colab": {
          "base_uri": "https://localhost:8080/"
        },
        "id": "EXbJ5-VsmWDX",
        "outputId": "b7cd5630-8c9d-4097-c31d-bca100c8ffbe"
      },
      "source": [
        "#Number 1\n",
        "import sqlite3\n",
        "import pandas as pd\n",
        "\n",
        "def createDB():\n",
        "    # Create SQL connection to SQLite database\n",
        "    con = sqlite3.connect(\"transaction_data.sqlite\", timeout=20)\n",
        "    c = con.cursor()\n",
        "    # Create DB\n",
        "    c.execute('''CREATE TABLE IF NOT EXISTS transactions\n",
        "                 (\n",
        "                     [id] INTEGER ,\n",
        "                     [insert_time] DATETIME,\n",
        "                     [tx_amount] float,\n",
        "                     [tx_type] varchar(25),\n",
        "                     [status] varchar(25)\n",
        "                 )\n",
        "              ''')\n",
        "    con.commit()\n",
        "\n",
        "# Insert Data (sample)\n",
        "def insertData():\n",
        "    con = sqlite3.connect(\"transaction_data.sqlite\", timeout=20)\n",
        "    c = con.cursor()\n",
        "    data = [\n",
        "                (1, \"2021-06-21 09:05:00\", 34, \"buy\" , \"open\"),\n",
        "                (4, \"2021-06-21 11:25:40\", 20, \"sell\" , \"close\"),\n",
        "                (1, \"2021-06-22 09:05:00\", 10, \"sell\" , \"open\"),\n",
        "                (3, \"2021-06-22 13:00:09\", 20, \"buy\" , \"close\"),\n",
        "                (2, \"2021-06-23 10:10:10\", 50, \"buy\" , \"close\"),\n",
        "                (2, \"2021-06-23 15:05:07\", 2, \"buy\" , \"open\"),\n",
        "                (4, \"2021-06-24 14:32:01\", 8, \"sell\" , \"open\"),\n",
        "                (3, \"2021-06-25 11:31:31\", 13, \"sell\" , \"close\")\n",
        "    ]\n",
        "    c.executemany('''INSERT INTO transactions(id, insert_time, tx_amount, tx_type , status) VALUES(?,?,?,?,?)''', data)\n",
        "    con.commit()\n",
        "\n",
        "# Select data (the latest transaction for each id)\n",
        "def selectData():\n",
        "    con = sqlite3.connect(\"transaction_data.sqlite\", timeout=20)\n",
        "    c = con.cursor()\n",
        "    c.execute('''\n",
        "            SELECT * FROM transactions\n",
        "            GROUP BY id\n",
        "            HAVING(MAX(insert_time))\n",
        "          ''')\n",
        "    results = c.fetchall()\n",
        "    df=pd.DataFrame(results,columns=['id','insert_time','tx_amount','tx_type','status'])\n",
        "    print(df)\n",
        "\n",
        "#Call all functions\n",
        "createDB()\n",
        "insertData()\n",
        "selectData()\n"
      ],
      "execution_count": null,
      "outputs": [
        {
          "output_type": "stream",
          "text": [
            "   id          insert_time  tx_amount tx_type status\n",
            "0   1  2021-06-22 09:05:00       10.0    sell   open\n",
            "1   2  2021-06-23 15:05:07        2.0     buy   open\n",
            "2   3  2021-06-25 11:31:31       13.0    sell  close\n",
            "3   4  2021-06-24 14:32:01        8.0    sell   open\n"
          ],
          "name": "stdout"
        }
      ]
    },
    {
      "cell_type": "markdown",
      "metadata": {
        "id": "CDeNaHmmpp3M"
      },
      "source": [
        "# Answer (No. 2)"
      ]
    },
    {
      "cell_type": "code",
      "metadata": {
        "id": "ChisHIhLmjC6",
        "colab": {
          "base_uri": "https://localhost:8080/"
        },
        "outputId": "9c29d086-ee53-44a8-8595-66d305928fc5"
      },
      "source": [
        "#Number 2\n",
        "import sqlite3\n",
        "import pandas as pd\n",
        "\n",
        "\n",
        "def createDB():\n",
        "    # Create a SQL connection SQLite database\n",
        "    con = sqlite3.connect(\"sales_data.sqlite\", timeout=20)\n",
        "    c = con.cursor()\n",
        "    # Create DB\n",
        "    c.execute('''CREATE TABLE IF NOT EXISTS sales_data\n",
        "                 (\n",
        "                     [date] DATE,\n",
        "                     [sales] INT\n",
        "                 )\n",
        "              ''')\n",
        "    con.commit()\n",
        "    \n",
        "# Insert Dataset\n",
        "def insertData():\n",
        "    con = sqlite3.connect(\"sales_data.sqlite\", timeout=20)\n",
        "    c = con.cursor()\n",
        "    data = [\n",
        "                (\"2021-01-01\",100),\n",
        "                (\"2021-01-02\",34),\n",
        "                (\"2021-01-02\",123),\n",
        "                (\"2021-01-02\",134),\n",
        "                (\"2021-01-03\",145),\n",
        "                (\"2021-01-03\",24),\n",
        "                (\"2021-01-04\",541),\n",
        "                (\"2021-01-04\",636),\n",
        "                (\"2021-01-05\",322),\n",
        "                (\"2021-01-06\",242),\n",
        "                (\"2021-01-07\",22),\n",
        "                (\"2021-01-08\",46)\n",
        "    ]\n",
        "    c.executemany('''INSERT INTO sales_data(date,sales) VALUES(?,?)''', data)\n",
        "    con.commit()\n",
        "\n",
        "# Select data (the latest transaction for each id)\n",
        "def selectData():\n",
        "    con = sqlite3.connect(\"sales_data.sqlite\", timeout=20)\n",
        "    c = con.cursor()\n",
        "    c.execute('''\n",
        "            SELECT date, sum(sales) FROM sales_data\n",
        "            GROUP BY date\n",
        "            order by date\n",
        "          ''')\n",
        "    results = c.fetchall()\n",
        "    df=pd.DataFrame(results,columns=['Date','Sales'])\n",
        "    print(df)\n",
        "\n",
        "#Clear function\n",
        "def flushDB():\n",
        "    con = sqlite3.connect(\"sales_data.sqlite\", timeout=20)\n",
        "    c = con.cursor()\n",
        "    c.execute('''DELETE FROM sales_data''')\n",
        "    con.commit()\n",
        "\n",
        "#Call all functions\n",
        "createDB()\n",
        "insertData()\n",
        "selectData()\n",
        "flushDB();\n"
      ],
      "execution_count": null,
      "outputs": [
        {
          "output_type": "stream",
          "text": [
            "         Date  Sales\n",
            "0  2021-01-01    100\n",
            "1  2021-01-02    291\n",
            "2  2021-01-03    169\n",
            "3  2021-01-04   1177\n",
            "4  2021-01-05    322\n",
            "5  2021-01-06    242\n",
            "6  2021-01-07     22\n",
            "7  2021-01-08     46\n"
          ],
          "name": "stdout"
        }
      ]
    },
    {
      "cell_type": "markdown",
      "metadata": {
        "id": "HOkiH8j5puHY"
      },
      "source": [
        "#Answer (No. 3)"
      ]
    },
    {
      "cell_type": "code",
      "metadata": {
        "id": "EApjSMVipieK"
      },
      "source": [
        "#Number 3\n",
        "import requests\n",
        "import pandas as pd\n",
        "\n",
        "url=\"https://github.com/lynilla/python_praticecase_pretrain_iykradf6/raw/master/dataset_c_python_practicecase.json\"\n",
        "df=pd.read_json(url)\n",
        "\n",
        "#create data for CSV\n",
        "data1=[]\n",
        "data2=[]\n",
        "data3=[]\n",
        "for idx, row in df.iterrows():\n",
        "  data2.append([df[\"user\"][idx][\"id\"] , df[\"user\"][idx][\"name\"] , df[\"user\"][idx][\"email\"]])\n",
        "  # Loop txs\n",
        "  for txs in row[\"txs\"]:\n",
        "    user_id=df[\"user\"][idx][\"id\"]\n",
        "    data1.append([user_id, txs[\"id\"]])\n",
        "    data3.append([txs[\"id\"],txs[\"tx_date\"],txs[\"tx_amount\"],txs[\"tx_type\"]])\n",
        "\n",
        "#create CSV     \n",
        "csv1 = pd.DataFrame(data1, columns = ['User_ID', 'TX_ID'])\n",
        "csv1.to_csv('csv_1.csv')\n",
        "\n",
        "csv2=pd.DataFrame(data2, columns = ['User_ID', 'Name','Email'])\n",
        "csv2.to_csv('csv_2.csv')\n",
        "\n",
        "csv3=pd.DataFrame(data3,columns=['TX_ID','TX_Date','TX_Amount','TX_Type'])\n",
        "csv3=csv3.sort_values(by='TX_ID')\n",
        "csv3.to_csv('csv_3.csv')"
      ],
      "execution_count": null,
      "outputs": []
    }
  ]
}